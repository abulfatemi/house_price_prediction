{
 "cells": [
  {
   "cell_type": "code",
   "execution_count": 1,
   "id": "93fbbcfd",
   "metadata": {},
   "outputs": [],
   "source": [
    "import pandas as pd\n",
    "from sklearn.model_selection import train_test_split"
   ]
  },
  {
   "cell_type": "code",
   "execution_count": 2,
   "id": "8292bc0b",
   "metadata": {},
   "outputs": [
    {
     "name": "stdout",
     "output_type": "stream",
     "text": [
      "       Suburb           Address  Rooms Type      Price Method SellerG  \\\n",
      "0  Abbotsford      85 Turner St      2    h  1480000.0      S  Biggin   \n",
      "1  Abbotsford   25 Bloomburg St      2    h  1035000.0      S  Biggin   \n",
      "2  Abbotsford      5 Charles St      3    h  1465000.0     SP  Biggin   \n",
      "3  Abbotsford  40 Federation La      3    h   850000.0     PI  Biggin   \n",
      "4  Abbotsford       55a Park St      4    h  1600000.0     VB  Nelson   \n",
      "\n",
      "        Date  Distance  Postcode  ...  Bathroom  Car  Landsize  BuildingArea  \\\n",
      "0  3/12/2016       2.5    3067.0  ...       1.0  1.0     202.0           NaN   \n",
      "1  4/02/2016       2.5    3067.0  ...       1.0  0.0     156.0          79.0   \n",
      "2  4/03/2017       2.5    3067.0  ...       2.0  0.0     134.0         150.0   \n",
      "3  4/03/2017       2.5    3067.0  ...       2.0  1.0      94.0           NaN   \n",
      "4  4/06/2016       2.5    3067.0  ...       1.0  2.0     120.0         142.0   \n",
      "\n",
      "   YearBuilt  CouncilArea Lattitude  Longtitude             Regionname  \\\n",
      "0        NaN        Yarra  -37.7996    144.9984  Northern Metropolitan   \n",
      "1     1900.0        Yarra  -37.8079    144.9934  Northern Metropolitan   \n",
      "2     1900.0        Yarra  -37.8093    144.9944  Northern Metropolitan   \n",
      "3        NaN        Yarra  -37.7969    144.9969  Northern Metropolitan   \n",
      "4     2014.0        Yarra  -37.8072    144.9941  Northern Metropolitan   \n",
      "\n",
      "  Propertycount  \n",
      "0        4019.0  \n",
      "1        4019.0  \n",
      "2        4019.0  \n",
      "3        4019.0  \n",
      "4        4019.0  \n",
      "\n",
      "[5 rows x 21 columns]\n"
     ]
    }
   ],
   "source": [
    "#Reading Data using Pandas\n",
    "data=pd.read_csv('./melb_data.csv')\n",
    "print(data.head())"
   ]
  },
  {
   "cell_type": "code",
   "execution_count": 3,
   "id": "b7444152",
   "metadata": {},
   "outputs": [],
   "source": [
    "#Removing rows without price value\n",
    "data.dropna(axis=0,subset=['Price'],inplace=True)\n",
    "Y=data['Price']\n",
    "X=data.drop(['Price'],axis=1)"
   ]
  },
  {
   "cell_type": "code",
   "execution_count": 4,
   "id": "7f90cb0b",
   "metadata": {},
   "outputs": [],
   "source": [
    "#Splitting in training and validation data\n",
    "from sklearn.model_selection import train_test_split\n",
    "X_train_full,X_val_full,Y_train_full,Y_val_full=train_test_split(X,Y,test_size=0.3,random_state=42)"
   ]
  },
  {
   "cell_type": "code",
   "execution_count": 5,
   "id": "e535775c",
   "metadata": {},
   "outputs": [
    {
     "name": "stdout",
     "output_type": "stream",
     "text": [
      "['Rooms', 'Distance', 'Postcode', 'Bedroom2', 'Bathroom', 'Car', 'Landsize', 'BuildingArea', 'YearBuilt', 'Lattitude', 'Longtitude', 'Propertycount']\n"
     ]
    }
   ],
   "source": [
    "#Getting columns with numeric values\n",
    "num_col=[col for col in X_train_full.columns if X_train_full[col].dtype in ['int64','float64']]\n",
    "print(num_col)"
   ]
  },
  {
   "cell_type": "code",
   "execution_count": 6,
   "id": "1d4952c3",
   "metadata": {},
   "outputs": [
    {
     "name": "stdout",
     "output_type": "stream",
     "text": [
      "['Type', 'Method', 'Regionname']\n"
     ]
    }
   ],
   "source": [
    "#Removing problematic categorical columns\n",
    "obj_col_b=[col for col in X_train_full.columns if X_train_full[col].dtype=='object']\n",
    "good_col=[col for col in obj_col_b if set(X_val_full[col]).issubset(X_train_full[col])]\n",
    "bad_col=list(set(obj_col_b)-set(good_col))\n",
    "X_train_full=X_train_full.drop(bad_col,axis=1)\n",
    "X_val_full=X_val_full.drop(bad_col,axis=1)\n",
    "\n",
    "#Getting columns with categoric values and number of unique values<10\n",
    "obj_col_a=[col for col in X_train_full.columns if X_train_full[col].dtype=='object' and X_train_full[col].nunique()<10]\n",
    "print(obj_col_a)\n",
    "\n",
    "\n",
    "\n"
   ]
  },
  {
   "cell_type": "code",
   "execution_count": 7,
   "id": "33e608aa",
   "metadata": {},
   "outputs": [],
   "source": [
    "my_col=num_col+obj_col_a\n",
    "X_train=X_train_full[my_col].copy()\n",
    "X_val=X_val_full[my_col].copy()"
   ]
  },
  {
   "cell_type": "code",
   "execution_count": 11,
   "id": "1514bbaa",
   "metadata": {},
   "outputs": [
    {
     "name": "stdout",
     "output_type": "stream",
     "text": [
      "MAE: 167499.55196055514\n"
     ]
    }
   ],
   "source": [
    "from sklearn.compose import ColumnTransformer\n",
    "from sklearn.pipeline import Pipeline\n",
    "from sklearn.impute import SimpleImputer\n",
    "from sklearn.preprocessing import OneHotEncoder\n",
    "\n",
    "#Making Numerical transformer\n",
    "num_transformer=SimpleImputer(strategy='constant')\n",
    "\n",
    "#Making Categorical transformer\n",
    "cat_transformer=Pipeline(steps=[\n",
    "    ('imputer',SimpleImputer(strategy='most_frequent')),\n",
    "    ('onehot',OneHotEncoder(handle_unknown='ignore'))\n",
    "])\n",
    "#Preparing Preprocessor\n",
    "preprocessor = ColumnTransformer(\n",
    "    transformers=[\n",
    "        ('num', num_transformer, num_col),\n",
    "        ('cat', cat_transformer, obj_col_a)\n",
    "    ])\n",
    "from sklearn.ensemble import RandomForestRegressor\n",
    "model=RandomForestRegressor(n_estimators=500,random_state=42)\n",
    "\n",
    "#Making Pipeline\n",
    "my_pipeline = Pipeline(steps=[('preprocessor', preprocessor),\n",
    "                              ('model', model)\n",
    "                             ])\n",
    "\n",
    "# Preprocessing of training data, fit model \n",
    "my_pipeline.fit(X_train, Y_train_full)\n",
    "preds=my_pipeline.predict(X_val_full)\n",
    "\n",
    "\n",
    "from sklearn.metrics import mean_absolute_error\n",
    "# Evaluating the model\n",
    "score = mean_absolute_error(Y_val_full, preds)\n",
    "print('MAE:', score)\n",
    "\n"
   ]
  },
  {
   "cell_type": "code",
   "execution_count": null,
   "id": "36a63e30",
   "metadata": {},
   "outputs": [],
   "source": []
  },
  {
   "cell_type": "code",
   "execution_count": null,
   "id": "f35e8185",
   "metadata": {},
   "outputs": [],
   "source": []
  }
 ],
 "metadata": {
  "kernelspec": {
   "display_name": "Python 3 (ipykernel)",
   "language": "python",
   "name": "python3"
  },
  "language_info": {
   "codemirror_mode": {
    "name": "ipython",
    "version": 3
   },
   "file_extension": ".py",
   "mimetype": "text/x-python",
   "name": "python",
   "nbconvert_exporter": "python",
   "pygments_lexer": "ipython3",
   "version": "3.9.6"
  }
 },
 "nbformat": 4,
 "nbformat_minor": 5
}
